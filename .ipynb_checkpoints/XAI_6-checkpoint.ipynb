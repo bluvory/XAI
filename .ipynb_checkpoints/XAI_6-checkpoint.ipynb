{
 "cells": [
  {
   "cell_type": "code",
   "execution_count": 1,
   "metadata": {
    "colab": {
     "base_uri": "https://localhost:8080/",
     "height": 203
    },
    "id": "EoPwJxdjTQnE",
    "outputId": "d02c1c10-aa12-4080-cac6-593a1b24c63e"
   },
   "outputs": [],
   "source": [
    "# 예제 6.1 신경망 학습을 구현하는 데 필요한 라이브러리 선언\n",
    "# tensorflow 1버전에서 2버전으로 바꿈\n",
    "# 1버전으로 쓰려면 주석 풀기\n",
    "\n",
    "import numpy as np\n",
    "import matplotlib.pyplot as plt\n",
    "%matplotlib inline\n",
    "\n",
    "#%tensorflow_version 1.x\n",
    "import tensorflow as tf\n",
    "#import tensorflow.contrib.slim as slim\n",
    "import tf_slim as slim\n",
    "#from tensorflow.examples.tutorials.mnist import input_data"
   ]
  },
  {
   "cell_type": "code",
   "execution_count": 2,
   "metadata": {
    "colab": {
     "base_uri": "https://localhost:8080/",
     "height": 541
    },
    "id": "weh4OXQkXnj9",
    "outputId": "c33d641f-f2ff-4652-cf89-a117c74fc28a"
   },
   "outputs": [],
   "source": [
    "# 예제 6.2 input_data 함수를 호출해 MNIST 데이터세트를 내려받는 코드\n",
    "\n",
    "#mnist = input_data.read_data_sets(\"MNIST_data/\", one_hot=True)\n",
    "mnist = tf.keras.datasets.mnist"
   ]
  },
  {
   "cell_type": "code",
   "execution_count": 3,
   "metadata": {
    "colab": {
     "base_uri": "https://localhost:8080/",
     "height": 141
    },
    "id": "YdbUkDU0YE2_",
    "outputId": "68f1e082-d63f-4f21-8bcd-7b86e6c1131d"
   },
   "outputs": [
    {
     "name": "stdout",
     "output_type": "stream",
     "text": [
      "WARNING:tensorflow:From /home/jovyan/.venv/tf2.3.0-keras2.4.0-py3.7-cuda10.1/lib/python3.7/site-packages/tensorflow/python/compat/v2_compat.py:96: disable_resource_variables (from tensorflow.python.ops.variable_scope) is deprecated and will be removed in a future version.\n",
      "Instructions for updating:\n",
      "non-resource variables are not supported in the long term\n",
      "WARNING:tensorflow:From /home/jovyan/.venv/tf2.3.0-keras2.4.0-py3.7-cuda10.1/lib/python3.7/site-packages/tf_slim/layers/layers.py:1089: Layer.apply (from tensorflow.python.keras.engine.base_layer_v1) is deprecated and will be removed in a future version.\n",
      "Instructions for updating:\n",
      "Please use `layer.__call__` method instead.\n",
      "WARNING:tensorflow:From /home/jovyan/.venv/tf2.3.0-keras2.4.0-py3.7-cuda10.1/lib/python3.7/site-packages/tf_slim/layers/layers.py:1666: flatten (from tensorflow.python.keras.legacy_tf_layers.core) is deprecated and will be removed in a future version.\n",
      "Instructions for updating:\n",
      "Use keras.layers.Flatten instead.\n"
     ]
    }
   ],
   "source": [
    "# 예제 6.3 합성곱 신경망 구축하기\n",
    "\n",
    "#tf.reset_default_graph()\n",
    "tf.python.framework.ops.reset_default_graph()\n",
    "\n",
    "import tensorflow.compat.v1 as tf\n",
    "tf.disable_v2_behavior()\n",
    "\n",
    "x = tf.placeholder(tf.float32, [None, 784], name=\"x-in\")\n",
    "true_y = tf.placeholder(tf.float32, [None, 10], name=\"y-in\")\n",
    "keep_prob = tf.placeholder(\"float\")\n",
    "\n",
    "#x = tf.Variable(tf.float32, [None, 784], name=\"x-in\")\n",
    "#true_y = tf.Variable(tf.float32, [None, 10], name=\"y-in\")\n",
    "#keep_prob = tf.Variable(\"float\")\n",
    "\n",
    "x_image = tf.reshape(x,[-1,28,28,1])\n",
    "hidden_1 = slim.conv2d(x_image,5,[5,5])\n",
    "pool_1 = slim.max_pool2d(hidden_1,[2,2])\n",
    "hidden_2 = slim.conv2d(pool_1,5,[5,5])\n",
    "pool_2 = slim.max_pool2d(hidden_2,[2,2])\n",
    "hidden_3 = slim.conv2d(pool_2,20,[5,5])\n",
    "hidden_3 = slim.dropout(hidden_3,keep_prob)\n",
    "out_y = slim.fully_connected(\n",
    "    slim.flatten(hidden_3),\n",
    "    10,\n",
    "    activation_fn=tf.nn.softmax)\n",
    "\n",
    "cross_entropy = -tf.reduce_sum(true_y*tf.log(out_y))\n",
    "correct_prediction = tf.equal(tf.argmax(out_y,1), tf.argmax(true_y,1))\n",
    "accuracy = tf.reduce_mean(tf.cast(correct_prediction, \"float\"))\n",
    "train_step = tf.train.AdamOptimizer(1e-4).minimize(cross_entropy)\n"
   ]
  },
  {
   "cell_type": "code",
   "execution_count": 4,
   "metadata": {
    "id": "spuOXJEnYdDd"
   },
   "outputs": [],
   "source": [
    "# 예제 6.4 합성곱 신경망이 데이터를 입력받는 부분\n",
    "\n",
    "x = tf.placeholder(tf.float32, [None, 784], name=\"x-in\")\n",
    "true_y = tf.placeholder(tf.float32, [None, 10], name=\"y-in\")\n",
    "keep_prob = tf.placeholder(\"float\")"
   ]
  },
  {
   "cell_type": "code",
   "execution_count": 5,
   "metadata": {
    "id": "XwzwsVZgYn6q"
   },
   "outputs": [],
   "source": [
    "# 예제 6.5 합성곱 신경망의 은닉층과 결과 층을 구현한 코드\n",
    "\n",
    "x_image = tf.reshape(x,[-1,28,28,1])\n",
    "hidden_1 = slim.conv2d(x_image,5,[5,5])\n",
    "pool_1 = slim.max_pool2d(hidden_1,[2,2])\n",
    "hidden_2 = slim.conv2d(pool_1,5,[5,5])\n",
    "pool_2 = slim.max_pool2d(hidden_2,[2,2])\n",
    "hidden_3 = slim.conv2d(pool_2,20,[5,5])\n",
    "hidden_3 = slim.dropout(hidden_3,keep_prob)\n",
    "out_y = slim.fully_connected(\n",
    "    slim.flatten(hidden_3),\n",
    "    10,\n",
    "    activation_fn=tf.nn.softmax)"
   ]
  },
  {
   "cell_type": "code",
   "execution_count": 6,
   "metadata": {
    "id": "R77ywYilY3MW"
   },
   "outputs": [],
   "source": [
    "# 예제 6.6 합성곱 신경망 모델이 비중과 바이어스를 학습할 수 있도록 기준을 부여하는 코드\n",
    "\n",
    "cross_entropy = -tf.reduce_sum(true_y*tf.log(out_y))\n",
    "correct_prediction = tf.equal(tf.argmax(out_y, 1), tf.argmax(true_y, 1))\n",
    "accuracy = tf.reduce_mean(tf.cast(correct_prediction, \"float\"))\n",
    "train_step = tf.train.AdamOptimizer(1e-4).minimize(cross_entropy)"
   ]
  },
  {
   "cell_type": "code",
   "execution_count": 7,
   "metadata": {
    "colab": {
     "base_uri": "https://localhost:8080/",
     "height": 173
    },
    "id": "jFD0mRR9ZDN0",
    "outputId": "c53544dd-8227-4ddd-f118-f514730c6363"
   },
   "outputs": [
    {
     "ename": "AttributeError",
     "evalue": "module 'tensorflow.keras.datasets.mnist' has no attribute 'train'",
     "output_type": "error",
     "traceback": [
      "\u001b[0;31m---------------------------------------------------------------------------\u001b[0m",
      "\u001b[0;31mAttributeError\u001b[0m                            Traceback (most recent call last)",
      "\u001b[0;32m<ipython-input-7-5785a4b144bb>\u001b[0m in \u001b[0;36m<module>\u001b[0;34m\u001b[0m\n\u001b[1;32m      7\u001b[0m \u001b[0;34m\u001b[0m\u001b[0m\n\u001b[1;32m      8\u001b[0m \u001b[0;32mfor\u001b[0m \u001b[0mi\u001b[0m \u001b[0;32min\u001b[0m \u001b[0mrange\u001b[0m\u001b[0;34m(\u001b[0m\u001b[0;36m1000\u001b[0m\u001b[0;34m)\u001b[0m\u001b[0;34m:\u001b[0m\u001b[0;34m\u001b[0m\u001b[0;34m\u001b[0m\u001b[0m\n\u001b[0;32m----> 9\u001b[0;31m     \u001b[0mbatch\u001b[0m \u001b[0;34m=\u001b[0m \u001b[0mmnist\u001b[0m\u001b[0;34m.\u001b[0m\u001b[0mtrain\u001b[0m\u001b[0;34m.\u001b[0m\u001b[0mnext_batch\u001b[0m\u001b[0;34m(\u001b[0m\u001b[0mbatchSize\u001b[0m\u001b[0;34m)\u001b[0m\u001b[0;34m\u001b[0m\u001b[0;34m\u001b[0m\u001b[0m\n\u001b[0m\u001b[1;32m     10\u001b[0m     sess.run(train_step,\n\u001b[1;32m     11\u001b[0m             feed_dict={x:batch[0],true_y:batch[1], keep_prob:0.5})\n",
      "\u001b[0;31mAttributeError\u001b[0m: module 'tensorflow.keras.datasets.mnist' has no attribute 'train'"
     ]
    }
   ],
   "source": [
    "# 예제 6.7 직접 구현한 합성곱 신경망을 학습시키는 코드\n",
    "\n",
    "batchSize = 50\n",
    "sess = tf.Session()\n",
    "init = tf.global_variables_initializer()\n",
    "sess.run(init)\n",
    "\n",
    "for i in range(1000):\n",
    "    batch = mnist.train.next_batch(batchSize)\n",
    "    sess.run(train_step,\n",
    "            feed_dict={x:batch[0],true_y:batch[1], keep_prob:0.5})\n",
    "    if i % 100 == 0 and i != 0:\n",
    "        trainAccuracy = sess.run(accuracy,\n",
    "                feed_dict={x:batch[0],\n",
    "                    true_y:batch[1],\n",
    "                    keep_prob:1.0})\n",
    "        print(\"step %d, training accuracy %g\"%(i, trainAccuracy))"
   ]
  },
  {
   "cell_type": "code",
   "execution_count": null,
   "metadata": {
    "colab": {
     "base_uri": "https://localhost:8080/",
     "height": 34
    },
    "id": "-85XXRKvZdXp",
    "outputId": "4ea7a104-05f8-4e8d-d9b9-3343bab97cdf"
   },
   "outputs": [],
   "source": [
    "# 예제 6.8 테스트 데이터를 활용해 학습된 신경망의 정확도를 구하는 코드\n",
    "\n",
    "testAccuracy = sess.run(accuracy,\n",
    "        feed_dict={x: mnist.test.images,\n",
    "            true_y: mnist.test.labels,\n",
    "            keep_prob: 1.0})\n",
    "\n",
    "print(\"test accuracy %g\"%(testAccuracy))\n"
   ]
  },
  {
   "cell_type": "code",
   "execution_count": null,
   "metadata": {
    "colab": {
     "base_uri": "https://localhost:8080/",
     "height": 317
    },
    "id": "xXrCvfK8Zq8o",
    "outputId": "fec173ef-9f7e-4666-8f3c-1ffc1008dcff"
   },
   "outputs": [],
   "source": [
    "# 예제 6.9 테스트 데이터 0번을 시각화하는 코드\n",
    "\n",
    "index = 0\n",
    "imageToUse = mnist.test.images[index]\n",
    "imageLabel = mnist.test.labels[index]\n",
    "print(imageToUse.shape)\n",
    "print(imageLabel)\n",
    "plt.imshow(np.reshape(imageToUse, [28,28]),\n",
    "        interpolation=\"nearest\", cmap=\"gray\")"
   ]
  },
  {
   "cell_type": "code",
   "execution_count": null,
   "metadata": {
    "colab": {
     "base_uri": "https://localhost:8080/",
     "height": 34
    },
    "id": "ZO_1gajkaAEi",
    "outputId": "27080d21-b422-452a-ea79-49f69e38dfd3"
   },
   "outputs": [],
   "source": [
    "# 예제 6.10 합성곱 신경망이 0번째 손글씨 이미지를 예측하는 코드\n",
    "\n",
    "image_in = np.reshape(imageToUse, [1, 784])\n",
    "arg_max = tf.argmax(out_y, 1)\n",
    "predict = sess.run(arg_max,\n",
    "        feed_dict={x: image_in, keep_prob: 1.0})\n",
    "print(predict)"
   ]
  },
  {
   "cell_type": "code",
   "execution_count": null,
   "metadata": {
    "colab": {
     "base_uri": "https://localhost:8080/",
     "height": 69
    },
    "id": "TgDgI1oWaLyc",
    "outputId": "7c1462ce-cdf9-4322-e635-ae76bba47229"
   },
   "outputs": [],
   "source": [
    "# 예제 6.11 합성곱 신경망이 예측한 데이터 라벨과 실제 데이터 라벨을 비교하는 코드\n",
    "\n",
    "print(imageLabel.argmax())\n",
    "print(predict[0])\n",
    "print(predict[0] == imageLabel.argmax())"
   ]
  },
  {
   "cell_type": "code",
   "execution_count": null,
   "metadata": {
    "colab": {
     "base_uri": "https://localhost:8080/",
     "height": 317
    },
    "id": "SF9hTPTjaU4e",
    "outputId": "b0cfc9a1-93f4-44cd-c1cf-4a709d539acf"
   },
   "outputs": [],
   "source": [
    "# 예제 6.12 테스트 데이터 924번을 시각화하는 코드\n",
    "\n",
    "index = 924\n",
    "imageToUse = mnist.test.images[index]\n",
    "imageLabel = mnist.test.labels[index]\n",
    "print(imageToUse.shape)\n",
    "print(imageLabel)\n",
    "plt.imshow(np.reshape(imageToUse, [28,28]), interpolation=\"nearest\", cmap=\"gray\")"
   ]
  },
  {
   "cell_type": "code",
   "execution_count": null,
   "metadata": {
    "colab": {
     "base_uri": "https://localhost:8080/",
     "height": 69
    },
    "id": "bxeQHa2dazIG",
    "outputId": "e4cc80b0-4bea-4fb7-c11d-2ba91aa8e6fb"
   },
   "outputs": [],
   "source": [
    "# 예제 6.11을 924번에 대해 실행한 결과\n",
    "\n",
    "print(imageLabel.argmax())\n",
    "print(predict[0])\n",
    "print(predict[0] == imageLabel.argmax())"
   ]
  },
  {
   "cell_type": "code",
   "execution_count": null,
   "metadata": {
    "colab": {
     "base_uri": "https://localhost:8080/",
     "height": 191
    },
    "id": "Ui2OthYpbC8V",
    "outputId": "5172c210-4c95-4c5a-9d69-986045960dc3"
   },
   "outputs": [],
   "source": [
    "# 예제 6.13 합성곱 신경망이 테스트 데이터 924번을 어떻게 예측하는지 숫자별로 확률을 보여주는 코드\n",
    "\n",
    "mat = sess.run(out_y, feed_dict={x: image_in, keep_prob: 1.0})[0]\n",
    "count = 0\n",
    "for i in mat:\n",
    "    print('[{}] {:.2%}'.format(count, i))\n",
    "    count += 1"
   ]
  },
  {
   "cell_type": "code",
   "execution_count": null,
   "metadata": {
    "id": "GRDWQslPbYbJ"
   },
   "outputs": [],
   "source": [
    "# 예제 6.14 이미지 하나가 특정 은닉층까지 통과한 결과물을 units 변수에 저장하고 호출하는 함수\n",
    "\n",
    "def getActivations(layer, stimuli):\n",
    "    units = sess.run(\n",
    "        layer,\n",
    "        feed_dict={\n",
    "            x: np.reshape(stimuli, [1,784], order='F'),\n",
    "            keep_prob:1.0})\n",
    "    tf.shape(units)\n",
    "    plotNNFilter(units)"
   ]
  },
  {
   "cell_type": "code",
   "execution_count": null,
   "metadata": {
    "id": "qEU9RzIUccdt"
   },
   "outputs": [],
   "source": [
    "# 예제 6.15 은닉층 연산 결과를 시각화하는 코드\n",
    "\n",
    "import math\n",
    "def plotNNFilter(units):\n",
    "    filters = units.shape[3]\n",
    "    plt.figure(1, figsize=(20,20))\n",
    "    n_columns = 5\n",
    "    n_rows = math.ceil(filters / n_columns) + 1\n",
    "    for i in range(filters):\n",
    "        plt.subplot(n_rows, n_columns, i+1)\n",
    "        plt.title('Filter ' + str(i))\n",
    "        plt.imshow(units[0,:,:,i], interpolation=\"nearest\", cmap=\"gray\")"
   ]
  },
  {
   "cell_type": "code",
   "execution_count": null,
   "metadata": {
    "colab": {
     "base_uri": "https://localhost:8080/",
     "height": 273
    },
    "id": "gp737wLvcskM",
    "outputId": "46160ea6-caf8-4e2f-edbb-513f299727f8"
   },
   "outputs": [],
   "source": [
    "# 예제 6.16 첫 번째 은닉층을 시각화하는 코드\n",
    "\n",
    "getActivations(hidden_1, imageToUse)"
   ]
  },
  {
   "cell_type": "code",
   "execution_count": null,
   "metadata": {
    "colab": {
     "base_uri": "https://localhost:8080/",
     "height": 256
    },
    "id": "cxmxJtl-c2mh",
    "outputId": "7c559dfd-dd94-4272-9c4d-8f5c12c4c52d"
   },
   "outputs": [],
   "source": [
    "# 예제 6.17 합성곱 신경망의 두 번째 은닉층을 시각화하는 코드\n",
    "\n",
    "getActivations(hidden_2, imageToUse)"
   ]
  },
  {
   "cell_type": "code",
   "execution_count": null,
   "metadata": {
    "colab": {
     "base_uri": "https://localhost:8080/",
     "height": 926
    },
    "id": "a9cJpJUSc9_i",
    "outputId": "272d69c1-bd54-4b0b-cdae-97eab5571ee6"
   },
   "outputs": [],
   "source": [
    "# 예제 6.18 세 번째 은닉층을 시각화하는 코드\n",
    "\n",
    "getActivations(hidden_3, imageToUse)"
   ]
  },
  {
   "cell_type": "code",
   "execution_count": null,
   "metadata": {
    "id": "8Q7z8ql_dF2U"
   },
   "outputs": [],
   "source": [
    "# 예제 6.18 MNIST 손글씨 테스트 데이터베이스 223번째 데이터를 불러오는 코드\n",
    "\n",
    "imageToUse = mnist.test.images[223]"
   ]
  },
  {
   "cell_type": "code",
   "execution_count": null,
   "metadata": {
    "id": "X_6tG7VcdLqP"
   },
   "outputs": [],
   "source": [
    "# 2개 이상의 데이터에 대한 필터 결과 출력\n",
    "\n",
    "def getActivationsMulti(layer, stimulis):\n",
    "    units = []\n",
    "    for stim in stimulis:\n",
    "        unit = sess.run(\n",
    "            layer,\n",
    "            feed_dict={\n",
    "                x: np.reshape(stim, [1,784], order='F'),\n",
    "                keep_prob:1.0})\n",
    "        units.append(unit)\n",
    "    units = np.concatenate(units, 3)\n",
    "    plotNNFilter(units)"
   ]
  },
  {
   "cell_type": "code",
   "execution_count": null,
   "metadata": {
    "colab": {
     "base_uri": "https://localhost:8080/",
     "height": 657
    },
    "id": "l5IzRiyVdptG",
    "outputId": "2e95ef38-4d4e-4380-a7d9-0c46e3fb6ebf"
   },
   "outputs": [],
   "source": [
    "getActivationsMulti(hidden_1, (mnist.test.images[924], mnist.test.images[223]))"
   ]
  },
  {
   "cell_type": "code",
   "execution_count": null,
   "metadata": {
    "colab": {
     "base_uri": "https://localhost:8080/",
     "height": 657
    },
    "id": "xI-ltML5idZs",
    "outputId": "ff293a93-dc7b-4a69-b203-4ffbe5adf2af"
   },
   "outputs": [],
   "source": [
    "getActivationsMulti(hidden_2, (mnist.test.images[924], mnist.test.images[223]))"
   ]
  },
  {
   "cell_type": "code",
   "execution_count": null,
   "metadata": {
    "colab": {
     "base_uri": "https://localhost:8080/",
     "height": 1000
    },
    "id": "mjs9IQB3ifDp",
    "outputId": "061ec472-1610-401a-fa46-6a8f387a3c14"
   },
   "outputs": [],
   "source": [
    "getActivationsMulti(hidden_3, (mnist.test.images[924], mnist.test.images[223]))"
   ]
  },
  {
   "cell_type": "code",
   "execution_count": null,
   "metadata": {
    "id": "sivZfdPbil4Y"
   },
   "outputs": [],
   "source": []
  }
 ],
 "metadata": {
  "colab": {
   "name": "XAI_6.ipynb",
   "provenance": []
  },
  "kernelspec": {
   "display_name": "tf2.3.0-keras2.4.0-py3.7-cuda10.1",
   "language": "python",
   "name": "tf2.3.0-keras2.4.0-py3.7-cuda10.1"
  },
  "language_info": {
   "codemirror_mode": {
    "name": "ipython",
    "version": 3
   },
   "file_extension": ".py",
   "mimetype": "text/x-python",
   "name": "python",
   "nbconvert_exporter": "python",
   "pygments_lexer": "ipython3",
   "version": "3.7.5"
  }
 },
 "nbformat": 4,
 "nbformat_minor": 4
}
